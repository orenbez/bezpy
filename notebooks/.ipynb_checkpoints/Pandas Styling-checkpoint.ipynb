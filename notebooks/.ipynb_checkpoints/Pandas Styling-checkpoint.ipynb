{
 "cells": [
  {
   "cell_type": "code",
   "execution_count": 1,
   "id": "48f316e4",
   "metadata": {},
   "outputs": [],
   "source": [
    "from IPython.display import display\n",
    "import pandas as pd"
   ]
  },
  {
   "cell_type": "code",
   "execution_count": 2,
   "id": "6c3a2a46",
   "metadata": {},
   "outputs": [],
   "source": [
    "df = pd.DataFrame({\"A\" : [14, 4, 5, 4, 1],  \n",
    "                   \"B\" : [5, 2, 54, 3, 2], \n",
    "                   \"C\" : [20, 20, 7, 3, 8], \n",
    "                   \"D\" : [14, 3, 6, 2, 6]}) "
   ]
  },
  {
   "cell_type": "code",
   "execution_count": 3,
   "id": "0ea0c511",
   "metadata": {},
   "outputs": [
    {
     "data": {
      "text/html": [
       "<div>\n",
       "<style scoped>\n",
       "    .dataframe tbody tr th:only-of-type {\n",
       "        vertical-align: middle;\n",
       "    }\n",
       "\n",
       "    .dataframe tbody tr th {\n",
       "        vertical-align: top;\n",
       "    }\n",
       "\n",
       "    .dataframe thead th {\n",
       "        text-align: right;\n",
       "    }\n",
       "</style>\n",
       "<table border=\"1\" class=\"dataframe\">\n",
       "  <thead>\n",
       "    <tr style=\"text-align: right;\">\n",
       "      <th></th>\n",
       "      <th>A</th>\n",
       "      <th>B</th>\n",
       "      <th>C</th>\n",
       "      <th>D</th>\n",
       "    </tr>\n",
       "  </thead>\n",
       "  <tbody>\n",
       "    <tr>\n",
       "      <th>0</th>\n",
       "      <td>14</td>\n",
       "      <td>5</td>\n",
       "      <td>20</td>\n",
       "      <td>14</td>\n",
       "    </tr>\n",
       "    <tr>\n",
       "      <th>1</th>\n",
       "      <td>4</td>\n",
       "      <td>2</td>\n",
       "      <td>20</td>\n",
       "      <td>3</td>\n",
       "    </tr>\n",
       "    <tr>\n",
       "      <th>2</th>\n",
       "      <td>5</td>\n",
       "      <td>54</td>\n",
       "      <td>7</td>\n",
       "      <td>6</td>\n",
       "    </tr>\n",
       "    <tr>\n",
       "      <th>3</th>\n",
       "      <td>4</td>\n",
       "      <td>3</td>\n",
       "      <td>3</td>\n",
       "      <td>2</td>\n",
       "    </tr>\n",
       "    <tr>\n",
       "      <th>4</th>\n",
       "      <td>1</td>\n",
       "      <td>2</td>\n",
       "      <td>8</td>\n",
       "      <td>6</td>\n",
       "    </tr>\n",
       "  </tbody>\n",
       "</table>\n",
       "</div>"
      ],
      "text/plain": [
       "    A   B   C   D\n",
       "0  14   5  20  14\n",
       "1   4   2  20   3\n",
       "2   5  54   7   6\n",
       "3   4   3   3   2\n",
       "4   1   2   8   6"
      ]
     },
     "metadata": {},
     "output_type": "display_data"
    }
   ],
   "source": [
    "display(df)"
   ]
  },
  {
   "cell_type": "code",
   "execution_count": 4,
   "id": "a32fe8f8",
   "metadata": {},
   "outputs": [],
   "source": [
    "# function definition \n",
    "def highlight_cols(s): \n",
    "    color = 'red' if s < 6 else 'blue'\n",
    "    return (f'background-color: {color}') "
   ]
  },
  {
   "cell_type": "code",
   "execution_count": 5,
   "id": "b05535cd",
   "metadata": {},
   "outputs": [
    {
     "data": {
      "text/html": [
       "<style type=\"text/css\">\n",
       "#T_0ae28_row0_col0, #T_0ae28_row0_col2, #T_0ae28_row0_col3, #T_0ae28_row1_col2, #T_0ae28_row2_col1, #T_0ae28_row2_col2, #T_0ae28_row2_col3, #T_0ae28_row4_col2, #T_0ae28_row4_col3 {\n",
       "  background-color: blue;\n",
       "}\n",
       "#T_0ae28_row0_col1, #T_0ae28_row1_col0, #T_0ae28_row1_col1, #T_0ae28_row1_col3, #T_0ae28_row2_col0, #T_0ae28_row3_col0, #T_0ae28_row3_col1, #T_0ae28_row3_col2, #T_0ae28_row3_col3, #T_0ae28_row4_col0, #T_0ae28_row4_col1 {\n",
       "  background-color: red;\n",
       "}\n",
       "</style>\n",
       "<table id=\"T_0ae28\">\n",
       "  <thead>\n",
       "    <tr>\n",
       "      <th class=\"blank level0\" >&nbsp;</th>\n",
       "      <th id=\"T_0ae28_level0_col0\" class=\"col_heading level0 col0\" >A</th>\n",
       "      <th id=\"T_0ae28_level0_col1\" class=\"col_heading level0 col1\" >B</th>\n",
       "      <th id=\"T_0ae28_level0_col2\" class=\"col_heading level0 col2\" >C</th>\n",
       "      <th id=\"T_0ae28_level0_col3\" class=\"col_heading level0 col3\" >D</th>\n",
       "    </tr>\n",
       "  </thead>\n",
       "  <tbody>\n",
       "    <tr>\n",
       "      <th id=\"T_0ae28_level0_row0\" class=\"row_heading level0 row0\" >0</th>\n",
       "      <td id=\"T_0ae28_row0_col0\" class=\"data row0 col0\" >14</td>\n",
       "      <td id=\"T_0ae28_row0_col1\" class=\"data row0 col1\" >5</td>\n",
       "      <td id=\"T_0ae28_row0_col2\" class=\"data row0 col2\" >20</td>\n",
       "      <td id=\"T_0ae28_row0_col3\" class=\"data row0 col3\" >14</td>\n",
       "    </tr>\n",
       "    <tr>\n",
       "      <th id=\"T_0ae28_level0_row1\" class=\"row_heading level0 row1\" >1</th>\n",
       "      <td id=\"T_0ae28_row1_col0\" class=\"data row1 col0\" >4</td>\n",
       "      <td id=\"T_0ae28_row1_col1\" class=\"data row1 col1\" >2</td>\n",
       "      <td id=\"T_0ae28_row1_col2\" class=\"data row1 col2\" >20</td>\n",
       "      <td id=\"T_0ae28_row1_col3\" class=\"data row1 col3\" >3</td>\n",
       "    </tr>\n",
       "    <tr>\n",
       "      <th id=\"T_0ae28_level0_row2\" class=\"row_heading level0 row2\" >2</th>\n",
       "      <td id=\"T_0ae28_row2_col0\" class=\"data row2 col0\" >5</td>\n",
       "      <td id=\"T_0ae28_row2_col1\" class=\"data row2 col1\" >54</td>\n",
       "      <td id=\"T_0ae28_row2_col2\" class=\"data row2 col2\" >7</td>\n",
       "      <td id=\"T_0ae28_row2_col3\" class=\"data row2 col3\" >6</td>\n",
       "    </tr>\n",
       "    <tr>\n",
       "      <th id=\"T_0ae28_level0_row3\" class=\"row_heading level0 row3\" >3</th>\n",
       "      <td id=\"T_0ae28_row3_col0\" class=\"data row3 col0\" >4</td>\n",
       "      <td id=\"T_0ae28_row3_col1\" class=\"data row3 col1\" >3</td>\n",
       "      <td id=\"T_0ae28_row3_col2\" class=\"data row3 col2\" >3</td>\n",
       "      <td id=\"T_0ae28_row3_col3\" class=\"data row3 col3\" >2</td>\n",
       "    </tr>\n",
       "    <tr>\n",
       "      <th id=\"T_0ae28_level0_row4\" class=\"row_heading level0 row4\" >4</th>\n",
       "      <td id=\"T_0ae28_row4_col0\" class=\"data row4 col0\" >1</td>\n",
       "      <td id=\"T_0ae28_row4_col1\" class=\"data row4 col1\" >2</td>\n",
       "      <td id=\"T_0ae28_row4_col2\" class=\"data row4 col2\" >8</td>\n",
       "      <td id=\"T_0ae28_row4_col3\" class=\"data row4 col3\" >6</td>\n",
       "    </tr>\n",
       "  </tbody>\n",
       "</table>\n"
      ],
      "text/plain": [
       "<pandas.io.formats.style.Styler at 0x1f1a80f9e70>"
      ]
     },
     "execution_count": 5,
     "metadata": {},
     "output_type": "execute_result"
    }
   ],
   "source": [
    "# The Styler object is accessible through style attribute of a data frame.\n",
    "df.style.applymap(highlight_cols)"
   ]
  },
  {
   "cell_type": "code",
   "execution_count": 6,
   "id": "899c5fac",
   "metadata": {},
   "outputs": [],
   "source": [
    "def highlight_cols2(s): \n",
    "    return (f'background-color: yellow')"
   ]
  },
  {
   "cell_type": "code",
   "execution_count": 7,
   "id": "85b29aaa",
   "metadata": {},
   "outputs": [
    {
     "data": {
      "text/html": [
       "<style type=\"text/css\">\n",
       "#T_6a9e9_row0_col1, #T_6a9e9_row0_col2, #T_6a9e9_row1_col1, #T_6a9e9_row1_col2, #T_6a9e9_row2_col1, #T_6a9e9_row2_col2, #T_6a9e9_row3_col1, #T_6a9e9_row3_col2, #T_6a9e9_row4_col1, #T_6a9e9_row4_col2 {\n",
       "  background-color: yellow;\n",
       "}\n",
       "</style>\n",
       "<table id=\"T_6a9e9\">\n",
       "  <thead>\n",
       "    <tr>\n",
       "      <th class=\"blank level0\" >&nbsp;</th>\n",
       "      <th id=\"T_6a9e9_level0_col0\" class=\"col_heading level0 col0\" >A</th>\n",
       "      <th id=\"T_6a9e9_level0_col1\" class=\"col_heading level0 col1\" >B</th>\n",
       "      <th id=\"T_6a9e9_level0_col2\" class=\"col_heading level0 col2\" >C</th>\n",
       "      <th id=\"T_6a9e9_level0_col3\" class=\"col_heading level0 col3\" >D</th>\n",
       "    </tr>\n",
       "  </thead>\n",
       "  <tbody>\n",
       "    <tr>\n",
       "      <th id=\"T_6a9e9_level0_row0\" class=\"row_heading level0 row0\" >0</th>\n",
       "      <td id=\"T_6a9e9_row0_col0\" class=\"data row0 col0\" >14</td>\n",
       "      <td id=\"T_6a9e9_row0_col1\" class=\"data row0 col1\" >5</td>\n",
       "      <td id=\"T_6a9e9_row0_col2\" class=\"data row0 col2\" >20</td>\n",
       "      <td id=\"T_6a9e9_row0_col3\" class=\"data row0 col3\" >14</td>\n",
       "    </tr>\n",
       "    <tr>\n",
       "      <th id=\"T_6a9e9_level0_row1\" class=\"row_heading level0 row1\" >1</th>\n",
       "      <td id=\"T_6a9e9_row1_col0\" class=\"data row1 col0\" >4</td>\n",
       "      <td id=\"T_6a9e9_row1_col1\" class=\"data row1 col1\" >2</td>\n",
       "      <td id=\"T_6a9e9_row1_col2\" class=\"data row1 col2\" >20</td>\n",
       "      <td id=\"T_6a9e9_row1_col3\" class=\"data row1 col3\" >3</td>\n",
       "    </tr>\n",
       "    <tr>\n",
       "      <th id=\"T_6a9e9_level0_row2\" class=\"row_heading level0 row2\" >2</th>\n",
       "      <td id=\"T_6a9e9_row2_col0\" class=\"data row2 col0\" >5</td>\n",
       "      <td id=\"T_6a9e9_row2_col1\" class=\"data row2 col1\" >54</td>\n",
       "      <td id=\"T_6a9e9_row2_col2\" class=\"data row2 col2\" >7</td>\n",
       "      <td id=\"T_6a9e9_row2_col3\" class=\"data row2 col3\" >6</td>\n",
       "    </tr>\n",
       "    <tr>\n",
       "      <th id=\"T_6a9e9_level0_row3\" class=\"row_heading level0 row3\" >3</th>\n",
       "      <td id=\"T_6a9e9_row3_col0\" class=\"data row3 col0\" >4</td>\n",
       "      <td id=\"T_6a9e9_row3_col1\" class=\"data row3 col1\" >3</td>\n",
       "      <td id=\"T_6a9e9_row3_col2\" class=\"data row3 col2\" >3</td>\n",
       "      <td id=\"T_6a9e9_row3_col3\" class=\"data row3 col3\" >2</td>\n",
       "    </tr>\n",
       "    <tr>\n",
       "      <th id=\"T_6a9e9_level0_row4\" class=\"row_heading level0 row4\" >4</th>\n",
       "      <td id=\"T_6a9e9_row4_col0\" class=\"data row4 col0\" >1</td>\n",
       "      <td id=\"T_6a9e9_row4_col1\" class=\"data row4 col1\" >2</td>\n",
       "      <td id=\"T_6a9e9_row4_col2\" class=\"data row4 col2\" >8</td>\n",
       "      <td id=\"T_6a9e9_row4_col3\" class=\"data row4 col3\" >6</td>\n",
       "    </tr>\n",
       "  </tbody>\n",
       "</table>\n"
      ],
      "text/plain": [
       "<pandas.io.formats.style.Styler at 0x1f1a8282ef0>"
      ]
     },
     "execution_count": 7,
     "metadata": {},
     "output_type": "execute_result"
    }
   ],
   "source": [
    "# The Styler object is accessible through style attribute of a data frame.\n",
    "df.style.applymap(highlight_cols2, subset=pd.IndexSlice[:, ['B', 'C']])"
   ]
  },
  {
   "cell_type": "code",
   "execution_count": 8,
   "id": "d1b261bd",
   "metadata": {},
   "outputs": [
    {
     "name": "stdout",
     "output_type": "stream",
     "text": [
      " A B C D\n",
      "0 14 5 20 14\n",
      "1 4 2 20 3\n",
      "2 5 54 7 6\n",
      "3 4 3 3 2\n",
      "4 1 2 8 6\n",
      "\n"
     ]
    }
   ],
   "source": [
    "print(df.style.applymap(highlight_cols).to_string())"
   ]
  },
  {
   "cell_type": "code",
   "execution_count": 9,
   "id": "af0f8b97",
   "metadata": {},
   "outputs": [
    {
     "name": "stdout",
     "output_type": "stream",
     "text": [
      "<style type=\"text/css\">\n",
      "#T_1c73f_row0_col0, #T_1c73f_row0_col2, #T_1c73f_row0_col3, #T_1c73f_row1_col2, #T_1c73f_row2_col1, #T_1c73f_row2_col2, #T_1c73f_row2_col3, #T_1c73f_row4_col2, #T_1c73f_row4_col3 {\n",
      "  background-color: blue;\n",
      "}\n",
      "#T_1c73f_row0_col1, #T_1c73f_row1_col0, #T_1c73f_row1_col1, #T_1c73f_row1_col3, #T_1c73f_row2_col0, #T_1c73f_row3_col0, #T_1c73f_row3_col1, #T_1c73f_row3_col2, #T_1c73f_row3_col3, #T_1c73f_row4_col0, #T_1c73f_row4_col1 {\n",
      "  background-color: red;\n",
      "}\n",
      "</style>\n",
      "<table id=\"T_1c73f\">\n",
      "  <thead>\n",
      "    <tr>\n",
      "      <th class=\"blank level0\" >&nbsp;</th>\n",
      "      <th id=\"T_1c73f_level0_col0\" class=\"col_heading level0 col0\" >A</th>\n",
      "      <th id=\"T_1c73f_level0_col1\" class=\"col_heading level0 col1\" >B</th>\n",
      "      <th id=\"T_1c73f_level0_col2\" class=\"col_heading level0 col2\" >C</th>\n",
      "      <th id=\"T_1c73f_level0_col3\" class=\"col_heading level0 col3\" >D</th>\n",
      "    </tr>\n",
      "  </thead>\n",
      "  <tbody>\n",
      "    <tr>\n",
      "      <th id=\"T_1c73f_level0_row0\" class=\"row_heading level0 row0\" >0</th>\n",
      "      <td id=\"T_1c73f_row0_col0\" class=\"data row0 col0\" >14</td>\n",
      "      <td id=\"T_1c73f_row0_col1\" class=\"data row0 col1\" >5</td>\n",
      "      <td id=\"T_1c73f_row0_col2\" class=\"data row0 col2\" >20</td>\n",
      "      <td id=\"T_1c73f_row0_col3\" class=\"data row0 col3\" >14</td>\n",
      "    </tr>\n",
      "    <tr>\n",
      "      <th id=\"T_1c73f_level0_row1\" class=\"row_heading level0 row1\" >1</th>\n",
      "      <td id=\"T_1c73f_row1_col0\" class=\"data row1 col0\" >4</td>\n",
      "      <td id=\"T_1c73f_row1_col1\" class=\"data row1 col1\" >2</td>\n",
      "      <td id=\"T_1c73f_row1_col2\" class=\"data row1 col2\" >20</td>\n",
      "      <td id=\"T_1c73f_row1_col3\" class=\"data row1 col3\" >3</td>\n",
      "    </tr>\n",
      "    <tr>\n",
      "      <th id=\"T_1c73f_level0_row2\" class=\"row_heading level0 row2\" >2</th>\n",
      "      <td id=\"T_1c73f_row2_col0\" class=\"data row2 col0\" >5</td>\n",
      "      <td id=\"T_1c73f_row2_col1\" class=\"data row2 col1\" >54</td>\n",
      "      <td id=\"T_1c73f_row2_col2\" class=\"data row2 col2\" >7</td>\n",
      "      <td id=\"T_1c73f_row2_col3\" class=\"data row2 col3\" >6</td>\n",
      "    </tr>\n",
      "    <tr>\n",
      "      <th id=\"T_1c73f_level0_row3\" class=\"row_heading level0 row3\" >3</th>\n",
      "      <td id=\"T_1c73f_row3_col0\" class=\"data row3 col0\" >4</td>\n",
      "      <td id=\"T_1c73f_row3_col1\" class=\"data row3 col1\" >3</td>\n",
      "      <td id=\"T_1c73f_row3_col2\" class=\"data row3 col2\" >3</td>\n",
      "      <td id=\"T_1c73f_row3_col3\" class=\"data row3 col3\" >2</td>\n",
      "    </tr>\n",
      "    <tr>\n",
      "      <th id=\"T_1c73f_level0_row4\" class=\"row_heading level0 row4\" >4</th>\n",
      "      <td id=\"T_1c73f_row4_col0\" class=\"data row4 col0\" >1</td>\n",
      "      <td id=\"T_1c73f_row4_col1\" class=\"data row4 col1\" >2</td>\n",
      "      <td id=\"T_1c73f_row4_col2\" class=\"data row4 col2\" >8</td>\n",
      "      <td id=\"T_1c73f_row4_col3\" class=\"data row4 col3\" >6</td>\n",
      "    </tr>\n",
      "  </tbody>\n",
      "</table>\n",
      "\n"
     ]
    }
   ],
   "source": [
    "styler = df.style.applymap(highlight_cols)\n",
    "print(styler.to_html())"
   ]
  },
  {
   "cell_type": "code",
   "execution_count": 10,
   "id": "a909f36c",
   "metadata": {},
   "outputs": [
    {
     "data": {
      "text/plain": [
       "pandas.io.formats.style.Styler"
      ]
     },
     "execution_count": 10,
     "metadata": {},
     "output_type": "execute_result"
    }
   ],
   "source": [
    "type(df.style)  # uses _repr_html_ method creates an HTML representation of it.\n"
   ]
  },
  {
   "cell_type": "code",
   "execution_count": 11,
   "id": "179a2a1e",
   "metadata": {},
   "outputs": [
    {
     "name": "stdout",
     "output_type": "stream",
     "text": [
      "<div>\n",
      "<style scoped>\n",
      "    .dataframe tbody tr th:only-of-type {\n",
      "        vertical-align: middle;\n",
      "    }\n",
      "\n",
      "    .dataframe tbody tr th {\n",
      "        vertical-align: top;\n",
      "    }\n",
      "\n",
      "    .dataframe thead th {\n",
      "        text-align: right;\n",
      "    }\n",
      "</style>\n",
      "<table border=\"1\" class=\"dataframe\">\n",
      "  <thead>\n",
      "    <tr style=\"text-align: right;\">\n",
      "      <th></th>\n",
      "      <th>A</th>\n",
      "      <th>B</th>\n",
      "      <th>C</th>\n",
      "      <th>D</th>\n",
      "    </tr>\n",
      "  </thead>\n",
      "  <tbody>\n",
      "    <tr>\n",
      "      <th>0</th>\n",
      "      <td>14</td>\n",
      "      <td>5</td>\n",
      "      <td>20</td>\n",
      "      <td>14</td>\n",
      "    </tr>\n",
      "    <tr>\n",
      "      <th>1</th>\n",
      "      <td>4</td>\n",
      "      <td>2</td>\n",
      "      <td>20</td>\n",
      "      <td>3</td>\n",
      "    </tr>\n",
      "    <tr>\n",
      "      <th>2</th>\n",
      "      <td>5</td>\n",
      "      <td>54</td>\n",
      "      <td>7</td>\n",
      "      <td>6</td>\n",
      "    </tr>\n",
      "    <tr>\n",
      "      <th>3</th>\n",
      "      <td>4</td>\n",
      "      <td>3</td>\n",
      "      <td>3</td>\n",
      "      <td>2</td>\n",
      "    </tr>\n",
      "    <tr>\n",
      "      <th>4</th>\n",
      "      <td>1</td>\n",
      "      <td>2</td>\n",
      "      <td>8</td>\n",
      "      <td>6</td>\n",
      "    </tr>\n",
      "  </tbody>\n",
      "</table>\n",
      "</div>\n"
     ]
    }
   ],
   "source": [
    "print(df._repr_html_())\n"
   ]
  },
  {
   "cell_type": "code",
   "execution_count": 12,
   "id": "ba84f872",
   "metadata": {},
   "outputs": [
    {
     "data": {
      "text/plain": [
       "'<table border=\"1\" class=\"dataframe\">\\n  <thead>\\n    <tr style=\"text-align: right;\">\\n      <th></th>\\n      <th>A</th>\\n      <th>B</th>\\n      <th>C</th>\\n      <th>D</th>\\n    </tr>\\n  </thead>\\n  <tbody>\\n    <tr>\\n      <th>0</th>\\n      <td>14</td>\\n      <td>5</td>\\n      <td>20</td>\\n      <td>14</td>\\n    </tr>\\n    <tr>\\n      <th>1</th>\\n      <td>4</td>\\n      <td>2</td>\\n      <td>20</td>\\n      <td>3</td>\\n    </tr>\\n    <tr>\\n      <th>2</th>\\n      <td>5</td>\\n      <td>54</td>\\n      <td>7</td>\\n      <td>6</td>\\n    </tr>\\n    <tr>\\n      <th>3</th>\\n      <td>4</td>\\n      <td>3</td>\\n      <td>3</td>\\n      <td>2</td>\\n    </tr>\\n    <tr>\\n      <th>4</th>\\n      <td>1</td>\\n      <td>2</td>\\n      <td>8</td>\\n      <td>6</td>\\n    </tr>\\n  </tbody>\\n</table>'"
      ]
     },
     "execution_count": 12,
     "metadata": {},
     "output_type": "execute_result"
    }
   ],
   "source": [
    "df.to_html()  # same as above\n"
   ]
  },
  {
   "cell_type": "code",
   "execution_count": 13,
   "id": "c15d861e",
   "metadata": {},
   "outputs": [
    {
     "data": {
      "text/html": [
       "<style type=\"text/css\">\n",
       "#T_0d724 thead {\n",
       "  background-color: dodgerblue;\n",
       "  color: white;\n",
       "  border: 3px solid red;\n",
       "}\n",
       "</style>\n",
       "<table id=\"T_0d724\">\n",
       "  <thead>\n",
       "    <tr>\n",
       "      <th class=\"blank level0\" >&nbsp;</th>\n",
       "      <th id=\"T_0d724_level0_col0\" class=\"col_heading level0 col0\" >A</th>\n",
       "      <th id=\"T_0d724_level0_col1\" class=\"col_heading level0 col1\" >B</th>\n",
       "      <th id=\"T_0d724_level0_col2\" class=\"col_heading level0 col2\" >C</th>\n",
       "      <th id=\"T_0d724_level0_col3\" class=\"col_heading level0 col3\" >D</th>\n",
       "    </tr>\n",
       "  </thead>\n",
       "  <tbody>\n",
       "    <tr>\n",
       "      <th id=\"T_0d724_level0_row0\" class=\"row_heading level0 row0\" >0</th>\n",
       "      <td id=\"T_0d724_row0_col0\" class=\"data row0 col0\" >14</td>\n",
       "      <td id=\"T_0d724_row0_col1\" class=\"data row0 col1\" >5</td>\n",
       "      <td id=\"T_0d724_row0_col2\" class=\"data row0 col2\" >20</td>\n",
       "      <td id=\"T_0d724_row0_col3\" class=\"data row0 col3\" >14</td>\n",
       "    </tr>\n",
       "    <tr>\n",
       "      <th id=\"T_0d724_level0_row1\" class=\"row_heading level0 row1\" >1</th>\n",
       "      <td id=\"T_0d724_row1_col0\" class=\"data row1 col0\" >4</td>\n",
       "      <td id=\"T_0d724_row1_col1\" class=\"data row1 col1\" >2</td>\n",
       "      <td id=\"T_0d724_row1_col2\" class=\"data row1 col2\" >20</td>\n",
       "      <td id=\"T_0d724_row1_col3\" class=\"data row1 col3\" >3</td>\n",
       "    </tr>\n",
       "    <tr>\n",
       "      <th id=\"T_0d724_level0_row2\" class=\"row_heading level0 row2\" >2</th>\n",
       "      <td id=\"T_0d724_row2_col0\" class=\"data row2 col0\" >5</td>\n",
       "      <td id=\"T_0d724_row2_col1\" class=\"data row2 col1\" >54</td>\n",
       "      <td id=\"T_0d724_row2_col2\" class=\"data row2 col2\" >7</td>\n",
       "      <td id=\"T_0d724_row2_col3\" class=\"data row2 col3\" >6</td>\n",
       "    </tr>\n",
       "    <tr>\n",
       "      <th id=\"T_0d724_level0_row3\" class=\"row_heading level0 row3\" >3</th>\n",
       "      <td id=\"T_0d724_row3_col0\" class=\"data row3 col0\" >4</td>\n",
       "      <td id=\"T_0d724_row3_col1\" class=\"data row3 col1\" >3</td>\n",
       "      <td id=\"T_0d724_row3_col2\" class=\"data row3 col2\" >3</td>\n",
       "      <td id=\"T_0d724_row3_col3\" class=\"data row3 col3\" >2</td>\n",
       "    </tr>\n",
       "    <tr>\n",
       "      <th id=\"T_0d724_level0_row4\" class=\"row_heading level0 row4\" >4</th>\n",
       "      <td id=\"T_0d724_row4_col0\" class=\"data row4 col0\" >1</td>\n",
       "      <td id=\"T_0d724_row4_col1\" class=\"data row4 col1\" >2</td>\n",
       "      <td id=\"T_0d724_row4_col2\" class=\"data row4 col2\" >8</td>\n",
       "      <td id=\"T_0d724_row4_col3\" class=\"data row4 col3\" >6</td>\n",
       "    </tr>\n",
       "  </tbody>\n",
       "</table>\n"
      ],
      "text/plain": [
       "<pandas.io.formats.style.Styler at 0x1f1a80f9ed0>"
      ]
     },
     "execution_count": 13,
     "metadata": {},
     "output_type": "execute_result"
    }
   ],
   "source": [
    "df.style.set_table_styles([{\"selector\":\"thead\",\n",
    "                            \"props\":\"background-color:dodgerblue; color:white; border:3px solid red;\"},])"
   ]
  }
 ],
 "metadata": {
  "kernelspec": {
   "display_name": "Python 3 (ipykernel)",
   "language": "python",
   "name": "python3"
  },
  "language_info": {
   "codemirror_mode": {
    "name": "ipython",
    "version": 3
   },
   "file_extension": ".py",
   "mimetype": "text/x-python",
   "name": "python",
   "nbconvert_exporter": "python",
   "pygments_lexer": "ipython3",
   "version": "3.10.0"
  }
 },
 "nbformat": 4,
 "nbformat_minor": 5
}
