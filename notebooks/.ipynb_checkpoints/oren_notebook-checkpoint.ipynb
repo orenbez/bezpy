{
 "cells": [
  {
   "cell_type": "code",
   "execution_count": 34,
   "id": "078e68b6",
   "metadata": {},
   "outputs": [
    {
     "name": "stdout",
     "output_type": "stream",
     "text": [
      "15\n"
     ]
    }
   ],
   "source": [
    "x = 5\n",
    "print(3*x)"
   ]
  },
  {
   "cell_type": "code",
   "execution_count": 35,
   "id": "91fe093c",
   "metadata": {},
   "outputs": [
    {
     "name": "stdout",
     "output_type": "stream",
     "text": [
      "20\n"
     ]
    }
   ],
   "source": [
    "print(4*x)"
   ]
  },
  {
   "cell_type": "code",
   "execution_count": 36,
   "id": "1795adb1",
   "metadata": {},
   "outputs": [],
   "source": [
    "import math"
   ]
  },
  {
   "cell_type": "code",
   "execution_count": 37,
   "id": "caea905f",
   "metadata": {},
   "outputs": [
    {
     "data": {
      "text/plain": [
       "7.0"
      ]
     },
     "execution_count": 37,
     "metadata": {},
     "output_type": "execute_result"
    }
   ],
   "source": [
    "math.sqrt(49)"
   ]
  },
  {
   "cell_type": "code",
   "execution_count": 38,
   "id": "8e04509f",
   "metadata": {},
   "outputs": [
    {
     "name": "stdout",
     "output_type": "stream",
     "text": [
      "Package               Version\n",
      "--------------------- ---------\n",
      "argon2-cffi           21.3.0\n",
      "argon2-cffi-bindings  21.2.0\n",
      "async-timeout         4.0.2\n",
      "atomicwrites          1.4.0\n",
      "attrs                 21.2.0\n",
      "backcall              0.2.0\n",
      "bcrypt                3.2.0\n",
      "beautifulsoup4        4.10.0\n",
      "bleach                5.0.1\n",
      "certifi               2021.10.8\n",
      "cffi                  1.15.0\n",
      "charset-normalizer    2.0.10\n",
      "click                 8.0.3\n",
      "colorama              0.4.4\n",
      "convertdate           2.4.0\n",
      "cryptography          36.0.1\n",
      "cycler                0.11.0\n",
      "debugpy               1.6.2\n",
      "decorator             5.1.1\n",
      "deepdiff              5.8.1\n",
      "defusedxml            0.7.1\n",
      "Deprecated            1.2.13\n",
      "entrypoints           0.4\n",
      "et-xmlfile            1.1.0\n",
      "fastjsonschema        2.16.1\n",
      "flake8                4.0.1\n",
      "Flask                 2.0.2\n",
      "Flask-SQLAlchemy      2.5.1\n",
      "fonttools             4.28.5\n",
      "future                0.18.2\n",
      "greenlet              1.1.2\n",
      "hijri-converter       2.2.3\n",
      "holidays              0.13\n",
      "idna                  3.3\n",
      "importlib-metadata    4.2.0\n",
      "importlib-resources   5.9.0\n",
      "ipykernel             6.15.1\n",
      "ipython               7.34.0\n",
      "ipython-genutils      0.2.0\n",
      "ipywidgets            7.7.1\n",
      "itsdangerous          2.0.1\n",
      "jedi                  0.18.1\n",
      "Jinja2                3.0.3\n",
      "jsonschema            4.9.1\n",
      "jupyter               1.0.0\n",
      "jupyter-client        7.3.4\n",
      "jupyter-console       6.4.4\n",
      "jupyter-core          4.11.1\n",
      "jupyterlab-pygments   0.2.2\n",
      "jupyterlab-widgets    1.1.1\n",
      "keyring               23.5.0\n",
      "kiwisolver            1.3.2\n",
      "korean-lunar-calendar 0.2.1\n",
      "lxml                  4.9.1\n",
      "mando                 0.6.4\n",
      "MarkupSafe            2.0.1\n",
      "matplotlib            3.5.1\n",
      "matplotlib-inline     0.1.3\n",
      "mccabe                0.6.1\n",
      "mistune               0.8.4\n",
      "more-itertools        8.12.0\n",
      "MouseInfo             0.1.3\n",
      "mypy                  0.950\n",
      "mypy-extensions       0.4.3\n",
      "nbclient              0.6.6\n",
      "nbconvert             6.5.1\n",
      "nbformat              5.4.0\n",
      "nest-asyncio          1.5.5\n",
      "notebook              6.4.12\n",
      "numpy                 1.21.5\n",
      "openpyxl              3.0.9\n",
      "ordered-set           4.1.0\n",
      "packaging             21.3\n",
      "pandas                1.3.5\n",
      "pandasql              0.7.3\n",
      "pandocfilters         1.5.0\n",
      "paramiko              2.9.1\n",
      "parso                 0.8.3\n",
      "pickleshare           0.7.5\n",
      "Pillow                9.0.0\n",
      "pip                   22.1.1\n",
      "pkgutil_resolve_name  1.3.10\n",
      "pluggy                0.13.1\n",
      "prometheus-client     0.14.1\n",
      "prompt-toolkit        3.0.30\n",
      "psutil                5.9.1\n",
      "py                    1.11.0\n",
      "py-cpuinfo            8.0.0\n",
      "py4j                  0.10.9\n",
      "pyarrow               6.0.1\n",
      "PyAutoGUI             0.9.53\n",
      "pycodestyle           2.8.0\n",
      "pycparser             2.21\n",
      "pyflakes              2.4.0\n",
      "PyGetWindow           0.0.9\n",
      "Pygments              2.12.0\n",
      "pyhocon               0.3.59\n",
      "PyMeeus               0.5.11\n",
      "PyMsgBox              1.0.9\n",
      "PyNaCl                1.4.0\n",
      "pyparsing             2.4.7\n",
      "pyperclip             1.8.2\n",
      "PyRect                0.2.0\n",
      "pyrsistent            0.18.1\n",
      "PyScreeze             0.1.28\n",
      "pysftp                0.2.9\n",
      "pyspark               3.0.3\n",
      "pytest                4.6.3\n",
      "python-dateutil       2.8.2\n",
      "pytweening            1.0.4\n",
      "pytz                  2021.3\n",
      "pywhatkit             5.3\n",
      "pywin32               304\n",
      "pywin32-ctypes        0.2.0\n",
      "pywinpty              2.0.7\n",
      "PyYAML                6.0\n",
      "pyzmq                 23.2.0\n",
      "qtconsole             5.3.1\n",
      "QtPy                  2.1.0\n",
      "radon                 5.1.0\n",
      "redis                 4.2.2\n",
      "requests              2.27.1\n",
      "schedule              1.1.0\n",
      "Send2Trash            1.8.0\n",
      "setuptools            47.1.0\n",
      "six                   1.16.0\n",
      "soupsieve             2.3.1\n",
      "SQLAlchemy            1.4.28\n",
      "tabulate              0.8.9\n",
      "terminado             0.15.0\n",
      "tinycss2              1.1.1\n",
      "tomli                 2.0.1\n",
      "tornado               6.2\n",
      "traitlets             5.3.0\n",
      "typed-ast             1.5.3\n",
      "typing_extensions     4.0.1\n",
      "urllib3               1.26.8\n",
      "wcwidth               0.2.5\n",
      "webencodings          0.5.1\n",
      "Werkzeug              2.0.2\n",
      "widgetsnbextension    3.6.1\n",
      "wikipedia             1.4.0\n",
      "wrapt                 1.14.1\n",
      "zipp                  3.6.0\n"
     ]
    },
    {
     "name": "stderr",
     "output_type": "stream",
     "text": [
      "WARNING: There was an error checking the latest version of pip.\n"
     ]
    }
   ],
   "source": [
    "!pip list"
   ]
  },
  {
   "cell_type": "markdown",
   "id": "46500f0e",
   "metadata": {},
   "source": [
    "### HEADER 3\n",
    "## HEADER 2\n",
    "# HEADER 1"
   ]
  },
  {
   "cell_type": "markdown",
   "id": "32d90269",
   "metadata": {},
   "source": [
    "### NOTICE ###"
   ]
  },
  {
   "cell_type": "code",
   "execution_count": 39,
   "id": "bc886c0c",
   "metadata": {},
   "outputs": [
    {
     "data": {
      "application/json": {
       "cell": {
        "!": "OSMagics",
        "HTML": "Other",
        "SVG": "Other",
        "bash": "Other",
        "capture": "ExecutionMagics",
        "cmd": "Other",
        "debug": "ExecutionMagics",
        "file": "Other",
        "html": "DisplayMagics",
        "javascript": "DisplayMagics",
        "js": "DisplayMagics",
        "latex": "DisplayMagics",
        "markdown": "DisplayMagics",
        "perl": "Other",
        "prun": "ExecutionMagics",
        "pypy": "Other",
        "python": "Other",
        "python2": "Other",
        "python3": "Other",
        "ruby": "Other",
        "script": "ScriptMagics",
        "sh": "Other",
        "svg": "DisplayMagics",
        "sx": "OSMagics",
        "system": "OSMagics",
        "time": "ExecutionMagics",
        "timeit": "ExecutionMagics",
        "writefile": "OSMagics"
       },
       "line": {
        "alias": "OSMagics",
        "alias_magic": "BasicMagics",
        "autoawait": "AsyncMagics",
        "autocall": "AutoMagics",
        "automagic": "AutoMagics",
        "autosave": "KernelMagics",
        "bookmark": "OSMagics",
        "cd": "OSMagics",
        "clear": "KernelMagics",
        "cls": "KernelMagics",
        "colors": "BasicMagics",
        "conda": "PackagingMagics",
        "config": "ConfigMagics",
        "connect_info": "KernelMagics",
        "copy": "Other",
        "ddir": "Other",
        "debug": "ExecutionMagics",
        "dhist": "OSMagics",
        "dirs": "OSMagics",
        "doctest_mode": "BasicMagics",
        "echo": "Other",
        "ed": "Other",
        "edit": "KernelMagics",
        "env": "OSMagics",
        "gui": "BasicMagics",
        "hist": "Other",
        "history": "HistoryMagics",
        "killbgscripts": "ScriptMagics",
        "ldir": "Other",
        "less": "KernelMagics",
        "load": "CodeMagics",
        "load_ext": "ExtensionMagics",
        "loadpy": "CodeMagics",
        "logoff": "LoggingMagics",
        "logon": "LoggingMagics",
        "logstart": "LoggingMagics",
        "logstate": "LoggingMagics",
        "logstop": "LoggingMagics",
        "ls": "Other",
        "lsmagic": "BasicMagics",
        "macro": "ExecutionMagics",
        "magic": "BasicMagics",
        "matplotlib": "PylabMagics",
        "mkdir": "Other",
        "more": "KernelMagics",
        "notebook": "BasicMagics",
        "page": "BasicMagics",
        "pastebin": "CodeMagics",
        "pdb": "ExecutionMagics",
        "pdef": "NamespaceMagics",
        "pdoc": "NamespaceMagics",
        "pfile": "NamespaceMagics",
        "pinfo": "NamespaceMagics",
        "pinfo2": "NamespaceMagics",
        "pip": "PackagingMagics",
        "popd": "OSMagics",
        "pprint": "BasicMagics",
        "precision": "BasicMagics",
        "prun": "ExecutionMagics",
        "psearch": "NamespaceMagics",
        "psource": "NamespaceMagics",
        "pushd": "OSMagics",
        "pwd": "OSMagics",
        "pycat": "OSMagics",
        "pylab": "PylabMagics",
        "qtconsole": "KernelMagics",
        "quickref": "BasicMagics",
        "recall": "HistoryMagics",
        "rehashx": "OSMagics",
        "reload_ext": "ExtensionMagics",
        "ren": "Other",
        "rep": "Other",
        "rerun": "HistoryMagics",
        "reset": "NamespaceMagics",
        "reset_selective": "NamespaceMagics",
        "rmdir": "Other",
        "run": "ExecutionMagics",
        "save": "CodeMagics",
        "sc": "OSMagics",
        "set_env": "OSMagics",
        "store": "StoreMagics",
        "sx": "OSMagics",
        "system": "OSMagics",
        "tb": "ExecutionMagics",
        "time": "ExecutionMagics",
        "timeit": "ExecutionMagics",
        "unalias": "OSMagics",
        "unload_ext": "ExtensionMagics",
        "who": "NamespaceMagics",
        "who_ls": "NamespaceMagics",
        "whos": "NamespaceMagics",
        "xdel": "NamespaceMagics",
        "xmode": "BasicMagics"
       }
      },
      "text/plain": [
       "Available line magics:\n",
       "%alias  %alias_magic  %autoawait  %autocall  %automagic  %autosave  %bookmark  %cd  %clear  %cls  %colors  %conda  %config  %connect_info  %copy  %ddir  %debug  %dhist  %dirs  %doctest_mode  %echo  %ed  %edit  %env  %gui  %hist  %history  %killbgscripts  %ldir  %less  %load  %load_ext  %loadpy  %logoff  %logon  %logstart  %logstate  %logstop  %ls  %lsmagic  %macro  %magic  %matplotlib  %mkdir  %more  %notebook  %page  %pastebin  %pdb  %pdef  %pdoc  %pfile  %pinfo  %pinfo2  %pip  %popd  %pprint  %precision  %prun  %psearch  %psource  %pushd  %pwd  %pycat  %pylab  %qtconsole  %quickref  %recall  %rehashx  %reload_ext  %ren  %rep  %rerun  %reset  %reset_selective  %rmdir  %run  %save  %sc  %set_env  %store  %sx  %system  %tb  %time  %timeit  %unalias  %unload_ext  %who  %who_ls  %whos  %xdel  %xmode\n",
       "\n",
       "Available cell magics:\n",
       "%%!  %%HTML  %%SVG  %%bash  %%capture  %%cmd  %%debug  %%file  %%html  %%javascript  %%js  %%latex  %%markdown  %%perl  %%prun  %%pypy  %%python  %%python2  %%python3  %%ruby  %%script  %%sh  %%svg  %%sx  %%system  %%time  %%timeit  %%writefile\n",
       "\n",
       "Automagic is ON, % prefix IS NOT needed for line magics."
      ]
     },
     "execution_count": 39,
     "metadata": {},
     "output_type": "execute_result"
    }
   ],
   "source": [
    "%lsmagic"
   ]
  },
  {
   "cell_type": "code",
   "execution_count": 40,
   "id": "7fd57628",
   "metadata": {},
   "outputs": [
    {
     "data": {
      "text/plain": [
       "'C:\\\\bezpy\\\\bezpy\\\\notebooks'"
      ]
     },
     "execution_count": 40,
     "metadata": {},
     "output_type": "execute_result"
    }
   ],
   "source": [
    "%pwd"
   ]
  },
  {
   "cell_type": "code",
   "execution_count": 41,
   "id": "37ab7901",
   "metadata": {},
   "outputs": [],
   "source": [
    "%matplotlib inline"
   ]
  },
  {
   "cell_type": "code",
   "execution_count": 42,
   "id": "d81c73cd",
   "metadata": {},
   "outputs": [
    {
     "data": {
      "image/png": "[encoded data removed]",
      "text/plain": [
       "<Figure size 432x288 with 1 Axes>"
      ]
     },
     "metadata": {
      "needs_background": "light"
     },
     "output_type": "display_data"
    },
    {
     "data": {
      "text/plain": [
       "<Figure size 432x288 with 0 Axes>"
      ]
     },
     "metadata": {},
     "output_type": "display_data"
    }
   ],
   "source": [
    "import matplotlib.pyplot as plt\n",
    "plt.title(\"Plot Title\", fontsize=24, fontweight=0, color='grey', loc='left')    # Set chart title\n",
    "plt.xlabel(\"X-Values\", fontsize=14)            # Set axis label\n",
    "plt.ylabel(\"Y-Values\", fontsize=14)\n",
    "plt.tick_params(axis='both', labelsize=14)  # Set Values font-size\n",
    "\n",
    "# plt.style.available # lists all available background styles\n",
    "# plt.style.use('ggplot') # sets nice default style\n",
    "# plt.xkcd()  # built-in cartoon style\n",
    "\n",
    "x_values = list(range(1, 101))\n",
    "y_values1 = [x**2 for x in x_values]\n",
    "y_values2 = [x**3 for x in x_values]\n",
    "plt.axis([0, 40, 0, 2000]) # Sets range for both axes\n",
    "plt.grid(True) # sets background grid\n",
    "plt.plot(x_values, y_values1, color='#5a7d9a', linestyle='--', linewidth=5, label='Squared')\n",
    "plt.plot(x_values, y_values2, color='red', linewidth=2, marker='x',  label='Cubed')   # s gives diameter of the dot\n",
    "plt.legend()   # from the label values in your plots,  OR provide a list of labels in the order they were plotted plt.legend(['Squared','Cubed'])\n",
    "plt.tight_layout()   # May improve the padding of the figure\n",
    "plt.show()\n",
    "plt.clf()"
   ]
  },
  {
   "cell_type": "code",
   "execution_count": 45,
   "id": "90580d35",
   "metadata": {},
   "outputs": [
    {
     "data": {
      "text/html": [
       "<iframe width=\"420\" height=\"315\"\n",
       "src=\"https://www.youtube.com/embed/tgbNymZ7vqY\">\n",
       "</iframe>\n"
      ],
      "text/plain": [
       "<IPython.core.display.HTML object>"
      ]
     },
     "metadata": {},
     "output_type": "display_data"
    }
   ],
   "source": [
    "%%HTML\n",
    "<iframe width=\"420\" height=\"315\"\n",
    "src=\"https://www.youtube.com/embed/tgbNymZ7vqY\">\n",
    "</iframe>"
   ]
  },
  {
   "cell_type": "code",
   "execution_count": 53,
   "id": "24ab9e16",
   "metadata": {},
   "outputs": [
    {
     "name": "stdout",
     "output_type": "stream",
     "text": [
      "[0, 1, 4, 9, 16, 25, 36, 49, 64, 81]\n"
     ]
    }
   ],
   "source": [
    "sq_list = [n**2 for n in range(10)]\n",
    "print(sq_list)"
   ]
  },
  {
   "cell_type": "code",
   "execution_count": 54,
   "id": "8eec48c2",
   "metadata": {},
   "outputs": [
    {
     "name": "stdout",
     "output_type": "stream",
     "text": [
      "4.56 µs ± 125 ns per loop (mean ± std. dev. of 7 runs, 100000 loops each)\n"
     ]
    }
   ],
   "source": [
    "%%timeit\n",
    "sq_list = [n**2 for n in range(10)]"
   ]
  },
  {
   "cell_type": "code",
   "execution_count": 56,
   "id": "abdfe3c9",
   "metadata": {},
   "outputs": [
    {
     "data": {
      "text/html": [
       "<div>\n",
       "<style scoped>\n",
       "    .dataframe tbody tr th:only-of-type {\n",
       "        vertical-align: middle;\n",
       "    }\n",
       "\n",
       "    .dataframe tbody tr th {\n",
       "        vertical-align: top;\n",
       "    }\n",
       "\n",
       "    .dataframe thead th {\n",
       "        text-align: right;\n",
       "    }\n",
       "</style>\n",
       "<table border=\"1\" class=\"dataframe\">\n",
       "  <thead>\n",
       "    <tr style=\"text-align: right;\">\n",
       "      <th></th>\n",
       "      <th>A</th>\n",
       "      <th>B</th>\n",
       "      <th>C</th>\n",
       "      <th>D</th>\n",
       "    </tr>\n",
       "  </thead>\n",
       "  <tbody>\n",
       "    <tr>\n",
       "      <th>0</th>\n",
       "      <td>0.968700</td>\n",
       "      <td>0.392056</td>\n",
       "      <td>0.096863</td>\n",
       "      <td>0.113166</td>\n",
       "    </tr>\n",
       "    <tr>\n",
       "      <th>1</th>\n",
       "      <td>0.800709</td>\n",
       "      <td>0.611498</td>\n",
       "      <td>0.412042</td>\n",
       "      <td>0.310319</td>\n",
       "    </tr>\n",
       "    <tr>\n",
       "      <th>2</th>\n",
       "      <td>0.717241</td>\n",
       "      <td>0.108158</td>\n",
       "      <td>0.027101</td>\n",
       "      <td>0.296372</td>\n",
       "    </tr>\n",
       "  </tbody>\n",
       "</table>\n",
       "</div>"
      ],
      "text/plain": [
       "          A         B         C         D\n",
       "0  0.968700  0.392056  0.096863  0.113166\n",
       "1  0.800709  0.611498  0.412042  0.310319\n",
       "2  0.717241  0.108158  0.027101  0.296372"
      ]
     },
     "execution_count": 56,
     "metadata": {},
     "output_type": "execute_result"
    }
   ],
   "source": [
    "import pandas as pd\n",
    "import numpy as np\n",
    "df = pd.DataFrame(np.random.rand(10, 4), columns=['A','B','C','D'])  # 10 ROWS 4 COLUMNS\n",
    "df.head(3)"
   ]
  },
  {
   "cell_type": "code",
   "execution_count": null,
   "id": "cfe15012",
   "metadata": {},
   "outputs": [],
   "source": []
  }
 ],
 "metadata": {
  "kernelspec": {
   "display_name": "Python 3 (ipykernel)",
   "language": "python",
   "name": "python3"
  },
  "language_info": {
   "codemirror_mode": {
    "name": "ipython",
    "version": 3
   },
   "file_extension": ".py",
   "mimetype": "text/x-python",
   "name": "python",
   "nbconvert_exporter": "python",
   "pygments_lexer": "ipython3",
   "version": "3.7.9"
  }
 },
 "nbformat": 4,
 "nbformat_minor": 5
}
